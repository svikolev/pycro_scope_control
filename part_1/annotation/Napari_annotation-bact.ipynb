{
 "cells": [
  {
   "cell_type": "code",
   "execution_count": 1,
   "id": "2a8d38c8",
   "metadata": {},
   "outputs": [
    {
     "data": {
      "text/plain": [
       "'/Users/sophiacofone/school_local/svi_worm_anno/annot'"
      ]
     },
     "execution_count": 1,
     "metadata": {},
     "output_type": "execute_result"
    }
   ],
   "source": [
    "import os\n",
    "path = os.getcwd()\n",
    "path"
   ]
  },
  {
   "cell_type": "code",
   "execution_count": 2,
   "id": "0a434667",
   "metadata": {},
   "outputs": [],
   "source": [
    "from skimage import data\n",
    "import napari"
   ]
  },
  {
   "cell_type": "code",
   "execution_count": 3,
   "id": "9230e40b",
   "metadata": {},
   "outputs": [],
   "source": [
    "import skimage.measure as meas"
   ]
  },
  {
   "cell_type": "code",
   "execution_count": 4,
   "id": "a3ab3a57",
   "metadata": {},
   "outputs": [],
   "source": [
    "import numpy as np\n",
    "import matplotlib.pyplot as plt"
   ]
  },
  {
   "cell_type": "code",
   "execution_count": 5,
   "id": "e8951e65",
   "metadata": {},
   "outputs": [],
   "source": [
    "import tifffile"
   ]
  },
  {
   "cell_type": "code",
   "execution_count": 6,
   "id": "0c9c9ef7",
   "metadata": {},
   "outputs": [],
   "source": [
    "from pycromanager import Dataset"
   ]
  },
  {
   "cell_type": "code",
   "execution_count": 7,
   "id": "fa8006e1",
   "metadata": {},
   "outputs": [],
   "source": [
    "fname = 'bact_mask/round2/wspa_5_21_23_wspa_denoise_proj_tstack_devC1_pos_9_.tiff'\n",
    "\n",
    "maskname = 'bact_mask/round2/wspa_5_21_23_wspa_denoise_proj_tstack_devC1_pos_9_mask'"
   ]
  },
  {
   "cell_type": "code",
   "execution_count": 8,
   "id": "d9f38a17",
   "metadata": {},
   "outputs": [
    {
     "name": "stdout",
     "output_type": "stream",
     "text": [
      "(14, 3, 2048, 2048)\n"
     ]
    }
   ],
   "source": [
    "image_data = tifffile.imread(fname)\n",
    "shape = image_data.shape\n",
    "print(shape)"
   ]
  },
  {
   "cell_type": "code",
   "execution_count": 9,
   "id": "bc0c31fe",
   "metadata": {},
   "outputs": [],
   "source": [
    "class mySet:\n",
    "    def __init__(self,path,name,data):\n",
    "        self.path = path\n",
    "        self.name = name\n",
    "        self.data = data\n",
    "        self.current_w = None\n",
    "        self.num_w = data.shape[0]\n",
    "        self.q = np.arange(self.num_w).tolist()\n",
    "        \n",
    "    def get_next_w(self):\n",
    "        self.current_w = self.q.pop()\n",
    "        print(self.current_w)\n",
    "        return self.data[self.current_w]\n",
    "    \n",
    "    def save_annot(self,annot_stack):\n",
    "        tifffile.imsave(os.path.join(self.path,self.name+'_{}.tiff'.format(self.current_w)),annot_stack)\n",
    "        \n",
    "        \n",
    "def open_worm(viewer,wstack):\n",
    "#     max_val = np.max(wstack[0, ...])\n",
    "#     min_val = np.min(wstack[0, ...])\n",
    "#     min_val_g = np.min(wstack[1, ...])\n",
    "#     min_val_r = np.min(wstack[3, ...])\n",
    "    viewer.add_image(\n",
    "        wstack,\n",
    "        channel_axis=0,\n",
    "        name=[f\"Pos {0}, Channel Brightfield\",f\"Position {0}, Channel Green\", f\"Position {0}, Channel Red\"],\n",
    "        colormap=[\"gray\", \"green\", 'red'],\n",
    "#         contrast_limits=[[min_val, max_val], [min_val_g, 230], [min_val_r, 176]]\n",
    "    )\n",
    "    \n",
    "def save_open_next(viewer,myS):\n",
    "    if myS.current_w is None:\n",
    "        open_worm(viewer,myS.get_next_w())\n",
    "    else:\n",
    "        try:\n",
    "            names = [l.name for l in viewer.layers]\n",
    "            red_layer = viewer.layers[[i for i,j in enumerate(names) if j == 'red'][0]].data\n",
    "            green_layer = viewer.layers[[i for i,j in enumerate(names) if j == 'green'][0]].data\n",
    "        \n",
    "            stacked_images = np.dstack((green_layer, red_layer)).transpose(2, 0, 1)\n",
    "            #print(np.sum(red_layer),np.sum(green_layer))\n",
    "            myS.save_annot(stacked_images)\n",
    "\n",
    "            viewer.layers.clear()\n",
    "        except IndexError:\n",
    "            print('annotation layers not added yet')\n",
    "            return\n",
    "        \n",
    "        try:\n",
    "            open_worm(viewer,myS.get_next_w())\n",
    "        except IndexError:\n",
    "            print('finished anotating set')\n",
    "            \n",
    "\n",
    "\n",
    "previous_layer = None  # Variable to store the previous layer\n",
    "\n",
    "def add_layer(viewer, color):\n",
    "    global previous_layer\n",
    "\n",
    "    # Deactivate the previous layer\n",
    "    if previous_layer is not None:\n",
    "        previous_layer.visible = False\n",
    "\n",
    "    # Create a new labels layer\n",
    "    labels = np.zeros((2048, 2048), dtype=np.uint16)\n",
    "    anot_layer = viewer.add_labels(labels, name=color, seed=0.2)\n",
    "    anot_layer.brush_size = 25\n",
    "    anot_layer.mode = 'paint'\n",
    "\n",
    "    # Update the previous layer variable\n",
    "    previous_layer = anot_layer\n",
    "        \n"
   ]
  },
  {
   "cell_type": "code",
   "execution_count": 11,
   "id": "117ce970",
   "metadata": {},
   "outputs": [
    {
     "name": "stdout",
     "output_type": "stream",
     "text": [
      "13\n"
     ]
    }
   ],
   "source": [
    "myS = mySet(path,maskname,image_data)\n",
    "\n",
    "viewer = napari.Viewer()\n",
    "\n",
    "viewer.bind_key('g', lambda event: add_layer(viewer, 'green'))\n",
    "viewer.bind_key('r', lambda event: add_layer(viewer, 'red'))\n",
    "viewer.bind_key('c', lambda event: save_open_next(viewer,myS))\n"
   ]
  },
  {
   "cell_type": "code",
   "execution_count": null,
   "id": "527bde7b",
   "metadata": {},
   "outputs": [],
   "source": []
  },
  {
   "cell_type": "code",
   "execution_count": null,
   "id": "88017f74",
   "metadata": {},
   "outputs": [],
   "source": []
  },
  {
   "cell_type": "code",
   "execution_count": null,
   "id": "13291900",
   "metadata": {},
   "outputs": [],
   "source": []
  },
  {
   "cell_type": "code",
   "execution_count": null,
   "id": "c1393450",
   "metadata": {},
   "outputs": [],
   "source": []
  },
  {
   "cell_type": "code",
   "execution_count": null,
   "id": "a096819f",
   "metadata": {},
   "outputs": [],
   "source": []
  }
 ],
 "metadata": {
  "kernelspec": {
   "display_name": "Python 3 (ipykernel)",
   "language": "python",
   "name": "python3"
  },
  "language_info": {
   "codemirror_mode": {
    "name": "ipython",
    "version": 3
   },
   "file_extension": ".py",
   "mimetype": "text/x-python",
   "name": "python",
   "nbconvert_exporter": "python",
   "pygments_lexer": "ipython3",
   "version": "3.9.16"
  }
 },
 "nbformat": 4,
 "nbformat_minor": 5
}
