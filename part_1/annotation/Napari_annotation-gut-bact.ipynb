{
 "cells": [
  {
   "cell_type": "code",
   "execution_count": 45,
   "id": "2a8d38c8",
   "metadata": {},
   "outputs": [],
   "source": [
    "import os"
   ]
  },
  {
   "cell_type": "code",
   "execution_count": 46,
   "id": "0a434667",
   "metadata": {},
   "outputs": [],
   "source": [
    "from skimage import data\n",
    "import napari\n",
    "import skimage.measure as meas\n",
    "import numpy as np\n",
    "import matplotlib.pyplot as plt\n",
    "import tifffile\n",
    "from pycromanager import Dataset"
   ]
  },
  {
   "cell_type": "code",
   "execution_count": 47,
   "id": "ca08988c",
   "metadata": {},
   "outputs": [],
   "source": [
    "import napari\n",
    "import numpy as np\n",
    "from vispy.color import Colormap\n",
    "import tifffile as tiff"
   ]
  },
  {
   "cell_type": "code",
   "execution_count": 48,
   "id": "65140823",
   "metadata": {},
   "outputs": [
    {
     "data": {
      "text/plain": [
       "['multi_ds_select_set1_id19_bfminmax_rlmax_d6_6_23_devA2_wn16_tp12_.tiff',\n",
       " 'multi_ds_select_set1_id11_bfminmax_rlmax_d6_6_23_devA3_wn14_tp12_.tiff',\n",
       " 'multi_ds_select_set1_id10_bfminmax_rlmax_d6_6_23_devA3_wn4_tp8_.tiff',\n",
       " 'multi_ds_select_set1_id36_bfminmax_rlmax_d5_24_23_devC1_wn2_tp11_.tiff']"
      ]
     },
     "execution_count": 48,
     "metadata": {},
     "output_type": "execute_result"
    }
   ],
   "source": [
    "folder_path = 'bact_gut_mask/im_set2'\n",
    "file_list = os.listdir(folder_path)\n",
    "file_list"
   ]
  },
  {
   "cell_type": "code",
   "execution_count": 49,
   "id": "bc0c31fe",
   "metadata": {},
   "outputs": [],
   "source": [
    "class mySet:\n",
    "    def __init__(self,path,name,data):\n",
    "        self.path = path\n",
    "        self.name = name\n",
    "        self.data = data\n",
    "        self.current_w = None\n",
    "        self.num_w = data.shape[0]\n",
    "        self.q = np.arange(self.num_w).tolist()\n",
    "        \n",
    "    def get_next_w(self):\n",
    "        self.current_w = self.q.pop()\n",
    "#         print(self.current_w)\n",
    "        return self.data[self.current_w]\n",
    "    \n",
    "    def save_annot(self,annot_stack):\n",
    "        tiff.imsave(os.path.join(self.path,self.name+'_{}.tiff'.format(self.current_w)),annot_stack)\n",
    "\n",
    "class mySet_files:\n",
    "    def __init__(self,path,name,file_list):\n",
    "        self.path = path\n",
    "        self.name = name\n",
    "        self.data = None\n",
    "        self.current_f = None\n",
    "        self.num_w = len(file_list) #data.shape[0]\n",
    "        self.q = file_list#np.arange(self.num_w).tolist()\n",
    "#         print(self.q.pop())\n",
    "        self.current_data = None\n",
    "        \n",
    "    def get_next_w(self):\n",
    "        self.current_f = self.q.pop()\n",
    "#         print(self.current_f)\n",
    "        self.current_data = tifffile.imread(os.path.join(self.path,self.current_f))\n",
    "        return self.current_data\n",
    "    \n",
    "    def save_annot(self,annot_stack):\n",
    "        save_stack = np.concatenate((self.current_data,annot_stack))\n",
    "        tiff.imwrite(os.path.join(self.path,self.current_f[:-5]+'_{}.tiff'.format(self.name)),save_stack)\n",
    "        print(self.name)\n",
    "        \n",
    "def open_worm(viewer,wstack):\n",
    "    viewer.add_image(\n",
    "        wstack,\n",
    "        channel_axis=0,\n",
    "        name=[f\"Pos {0}, Channel Brightfield Max\",f\"Position {0}, Channel Brightfield Min\", f\"Position {0}, Channel green\", f\"Position {0}, Channel red\"],\n",
    "        colormap=[\"gray\", \"gray\", 'green','red'],\n",
    "    )\n",
    "    \n",
    "def save_open_next(viewer,myS):\n",
    "    if myS.current_f is None:\n",
    "        print('opening worm')\n",
    "        open_worm(viewer,myS.get_next_w())\n",
    "    else:\n",
    "        try:\n",
    "            names = [l.name for l in viewer.layers]\n",
    "            worm_layer = viewer.layers[[i for i,j in enumerate(names) if j == 'bact_mask'][0]].data\n",
    "            gut_layer = viewer.layers[[i for i,j in enumerate(names) if j == 'gut_mask'][0]].data\n",
    "        \n",
    "            stacked_images = np.dstack((worm_layer, gut_layer)).transpose(2, 0, 1)\n",
    "            myS.save_annot(stacked_images)\n",
    "\n",
    "            viewer.layers.clear()\n",
    "        except IndexError:\n",
    "            print('annotation layers not added yet')\n",
    "            return\n",
    "        \n",
    "        try:\n",
    "            open_worm(viewer,myS.get_next_w())\n",
    "        except IndexError:\n",
    "            print('finished anotating set')\n",
    "            \n",
    "\n",
    "\n",
    "previous_layer = None  # Variable to store the previous layer\n",
    "\n",
    "def add_layer(viewer, color):\n",
    "    global previous_layer\n",
    "\n",
    "    # Deactivate the previous layer\n",
    "    if previous_layer is not None:\n",
    "        previous_layer.visible = False\n",
    "\n",
    "    # Create a new labels layer\n",
    "    labels = np.zeros((2048, 2048), dtype=np.uint16)\n",
    "    anot_layer = viewer.add_labels(labels, name=color, seed=0.2)\n",
    "    anot_layer.brush_size = 40\n",
    "    anot_layer.mode = 'paint'\n",
    "\n",
    "    # Update the previous layer variable\n",
    "    previous_layer = anot_layer\n",
    "        \n"
   ]
  },
  {
   "cell_type": "code",
   "execution_count": 50,
   "id": "117ce970",
   "metadata": {},
   "outputs": [
    {
     "name": "stdout",
     "output_type": "stream",
     "text": [
      "opening worm\n",
      "bacteria_gut_mask\n",
      "bacteria_gut_mask\n",
      "bacteria_gut_mask\n",
      "bacteria_gut_mask\n",
      "finished anotating set\n"
     ]
    }
   ],
   "source": [
    "path = os.path.join(os.getcwd(),'bact_gut_mask/im_set2')\n",
    "\n",
    "\n",
    "myS = mySet_files(path,'bacteria_gut_mask',file_list)\n",
    "\n",
    "viewer = napari.Viewer()\n",
    "\n",
    "viewer.bind_key('g', lambda event: add_layer(viewer, 'gut_mask'))\n",
    "viewer.bind_key('b', lambda event: add_layer(viewer, 'bact_mask'))\n",
    "viewer.bind_key('c', lambda event: save_open_next(viewer,myS))"
   ]
  },
  {
   "cell_type": "code",
   "execution_count": 44,
   "id": "16df8af5",
   "metadata": {},
   "outputs": [
    {
     "data": {
      "image/png": "[encoded data removed]",
      "text/plain": [
       "<Figure size 640x480 with 1 Axes>"
      ]
     },
     "metadata": {},
     "output_type": "display_data"
    },
    {
     "name": "stdout",
     "output_type": "stream",
     "text": [
      "bacteria_gut_mask\n",
      "bacteria_gut_mask\n",
      "bacteria_gut_mask\n",
      "bacteria_gut_mask\n",
      "bacteria_gut_mask\n",
      "bacteria_gut_mask\n",
      "bacteria_gut_mask\n",
      "bacteria_gut_mask\n",
      "bacteria_gut_mask\n",
      "bacteria_gut_mask\n",
      "bacteria_gut_mask\n",
      "bacteria_gut_mask\n",
      "bacteria_gut_mask\n",
      "bacteria_gut_mask\n",
      "bacteria_gut_mask\n",
      "bacteria_gut_mask\n",
      "bacteria_gut_mask\n",
      "bacteria_gut_mask\n",
      "bacteria_gut_mask\n",
      "finished anotating set\n",
      "annotation layers not added yet\n"
     ]
    }
   ],
   "source": [
    "img = 'bact_gut_mask/im_set/multi_ds_select_set1_id0_bfminmax_rlmax_d6_6_23_devA1_wn0_tp1__worm_gut_mask.tiff'\n",
    "image = tiff.imread(img)\n",
    "\n",
    "plt.imshow(image[5]*100, cmap='gray')  # You can adjust the colormap as needed\n",
    "plt.title('Image')\n",
    "plt.axis('off')  # Hide the axis ticks and labels\n",
    "plt.show()\n"
   ]
  },
  {
   "cell_type": "code",
   "execution_count": 12,
   "id": "78c7f0a4",
   "metadata": {},
   "outputs": [
    {
     "ename": "FileNotFoundError",
     "evalue": "[Errno 2] No such file or directory: '/Users/sophiacofone/school_local/svi_worm_anno/annot/gut_mask/edof_4set_for_annot/multi_ds_select_set1_id50_bfminmax_rlmax_d5_24_23_devC4_wn8_tp5_.tiff'",
     "output_type": "error",
     "traceback": [
      "\u001b[0;31m---------------------------------------------------------------------------\u001b[0m",
      "\u001b[0;31mFileNotFoundError\u001b[0m                         Traceback (most recent call last)",
      "Cell \u001b[0;32mIn[12], line 2\u001b[0m\n\u001b[1;32m      1\u001b[0m img \u001b[38;5;241m=\u001b[39m \u001b[38;5;124m'\u001b[39m\u001b[38;5;124mgut_mask/edof_4set_for_annot/multi_ds_select_set1_id50_bfminmax_rlmax_d5_24_23_devC4_wn8_tp5_.tiff\u001b[39m\u001b[38;5;124m'\u001b[39m\n\u001b[0;32m----> 2\u001b[0m image \u001b[38;5;241m=\u001b[39m \u001b[43mtiff\u001b[49m\u001b[38;5;241;43m.\u001b[39;49m\u001b[43mimread\u001b[49m\u001b[43m(\u001b[49m\u001b[43mimg\u001b[49m\u001b[43m)\u001b[49m\n\u001b[1;32m      4\u001b[0m plt\u001b[38;5;241m.\u001b[39mimshow(image[\u001b[38;5;241m0\u001b[39m], cmap\u001b[38;5;241m=\u001b[39m\u001b[38;5;124m'\u001b[39m\u001b[38;5;124mgray\u001b[39m\u001b[38;5;124m'\u001b[39m)  \u001b[38;5;66;03m# You can adjust the colormap as needed\u001b[39;00m\n\u001b[1;32m      5\u001b[0m plt\u001b[38;5;241m.\u001b[39mtitle(\u001b[38;5;124m'\u001b[39m\u001b[38;5;124mImage\u001b[39m\u001b[38;5;124m'\u001b[39m)\n",
      "File \u001b[0;32m~/opt/anaconda3/envs/napari-env/lib/python3.9/site-packages/tifffile/tifffile.py:1040\u001b[0m, in \u001b[0;36mimread\u001b[0;34m(files, aszarr, key, series, level, squeeze, maxworkers, mode, name, offset, size, pattern, axesorder, categories, imread, sort, container, chunkshape, dtype, axestiled, ioworkers, chunkmode, fillvalue, zattrs, multiscales, omexml, out, out_inplace, _multifile, _useframes, **kwargs)\u001b[0m\n\u001b[1;32m   1035\u001b[0m     files \u001b[38;5;241m=\u001b[39m files[\u001b[38;5;241m0\u001b[39m]\n\u001b[1;32m   1037\u001b[0m \u001b[38;5;28;01mif\u001b[39;00m \u001b[38;5;28misinstance\u001b[39m(files, \u001b[38;5;28mstr\u001b[39m) \u001b[38;5;129;01mor\u001b[39;00m \u001b[38;5;129;01mnot\u001b[39;00m \u001b[38;5;28misinstance\u001b[39m(\n\u001b[1;32m   1038\u001b[0m     files, collections\u001b[38;5;241m.\u001b[39mabc\u001b[38;5;241m.\u001b[39mSequence\n\u001b[1;32m   1039\u001b[0m ):\n\u001b[0;32m-> 1040\u001b[0m     \u001b[38;5;28;01mwith\u001b[39;00m \u001b[43mTiffFile\u001b[49m\u001b[43m(\u001b[49m\n\u001b[1;32m   1041\u001b[0m \u001b[43m        \u001b[49m\u001b[43mfiles\u001b[49m\u001b[43m,\u001b[49m\n\u001b[1;32m   1042\u001b[0m \u001b[43m        \u001b[49m\u001b[43mmode\u001b[49m\u001b[38;5;241;43m=\u001b[39;49m\u001b[43mmode\u001b[49m\u001b[43m,\u001b[49m\n\u001b[1;32m   1043\u001b[0m \u001b[43m        \u001b[49m\u001b[43mname\u001b[49m\u001b[38;5;241;43m=\u001b[39;49m\u001b[43mname\u001b[49m\u001b[43m,\u001b[49m\n\u001b[1;32m   1044\u001b[0m \u001b[43m        \u001b[49m\u001b[43moffset\u001b[49m\u001b[38;5;241;43m=\u001b[39;49m\u001b[43moffset\u001b[49m\u001b[43m,\u001b[49m\n\u001b[1;32m   1045\u001b[0m \u001b[43m        \u001b[49m\u001b[43msize\u001b[49m\u001b[38;5;241;43m=\u001b[39;49m\u001b[43msize\u001b[49m\u001b[43m,\u001b[49m\n\u001b[1;32m   1046\u001b[0m \u001b[43m        \u001b[49m\u001b[43momexml\u001b[49m\u001b[38;5;241;43m=\u001b[39;49m\u001b[43momexml\u001b[49m\u001b[43m,\u001b[49m\n\u001b[1;32m   1047\u001b[0m \u001b[43m        \u001b[49m\u001b[43m_multifile\u001b[49m\u001b[38;5;241;43m=\u001b[39;49m\u001b[43m_multifile\u001b[49m\u001b[43m,\u001b[49m\n\u001b[1;32m   1048\u001b[0m \u001b[43m        \u001b[49m\u001b[43m_useframes\u001b[49m\u001b[38;5;241;43m=\u001b[39;49m\u001b[43m_useframes\u001b[49m\u001b[43m,\u001b[49m\n\u001b[1;32m   1049\u001b[0m \u001b[43m        \u001b[49m\u001b[38;5;241;43m*\u001b[39;49m\u001b[38;5;241;43m*\u001b[39;49m\u001b[43mis_flags\u001b[49m\u001b[43m,\u001b[49m\n\u001b[1;32m   1050\u001b[0m \u001b[43m    \u001b[49m\u001b[43m)\u001b[49m \u001b[38;5;28;01mas\u001b[39;00m tif:\n\u001b[1;32m   1051\u001b[0m         \u001b[38;5;28;01mif\u001b[39;00m aszarr:\n\u001b[1;32m   1052\u001b[0m             \u001b[38;5;28;01massert\u001b[39;00m key \u001b[38;5;129;01mis\u001b[39;00m \u001b[38;5;28;01mNone\u001b[39;00m \u001b[38;5;129;01mor\u001b[39;00m \u001b[38;5;28misinstance\u001b[39m(key, \u001b[38;5;28mint\u001b[39m)\n",
      "File \u001b[0;32m~/opt/anaconda3/envs/napari-env/lib/python3.9/site-packages/tifffile/tifffile.py:3933\u001b[0m, in \u001b[0;36mTiffFile.__init__\u001b[0;34m(self, file, mode, name, offset, size, omexml, _multifile, _useframes, _parent, **is_flags)\u001b[0m\n\u001b[1;32m   3930\u001b[0m \u001b[38;5;28;01mif\u001b[39;00m mode \u001b[38;5;129;01mnot\u001b[39;00m \u001b[38;5;129;01min\u001b[39;00m (\u001b[38;5;28;01mNone\u001b[39;00m, \u001b[38;5;124m'\u001b[39m\u001b[38;5;124mr\u001b[39m\u001b[38;5;124m'\u001b[39m, \u001b[38;5;124m'\u001b[39m\u001b[38;5;124mr+\u001b[39m\u001b[38;5;124m'\u001b[39m, \u001b[38;5;124m'\u001b[39m\u001b[38;5;124mrb\u001b[39m\u001b[38;5;124m'\u001b[39m, \u001b[38;5;124m'\u001b[39m\u001b[38;5;124mr+b\u001b[39m\u001b[38;5;124m'\u001b[39m):\n\u001b[1;32m   3931\u001b[0m     \u001b[38;5;28;01mraise\u001b[39;00m \u001b[38;5;167;01mValueError\u001b[39;00m(\u001b[38;5;124mf\u001b[39m\u001b[38;5;124m'\u001b[39m\u001b[38;5;124minvalid mode \u001b[39m\u001b[38;5;132;01m{\u001b[39;00mmode\u001b[38;5;132;01m!r}\u001b[39;00m\u001b[38;5;124m'\u001b[39m)\n\u001b[0;32m-> 3933\u001b[0m fh \u001b[38;5;241m=\u001b[39m \u001b[43mFileHandle\u001b[49m\u001b[43m(\u001b[49m\u001b[43mfile\u001b[49m\u001b[43m,\u001b[49m\u001b[43m \u001b[49m\u001b[43mmode\u001b[49m\u001b[38;5;241;43m=\u001b[39;49m\u001b[43mmode\u001b[49m\u001b[43m,\u001b[49m\u001b[43m \u001b[49m\u001b[43mname\u001b[49m\u001b[38;5;241;43m=\u001b[39;49m\u001b[43mname\u001b[49m\u001b[43m,\u001b[49m\u001b[43m \u001b[49m\u001b[43moffset\u001b[49m\u001b[38;5;241;43m=\u001b[39;49m\u001b[43moffset\u001b[49m\u001b[43m,\u001b[49m\u001b[43m \u001b[49m\u001b[43msize\u001b[49m\u001b[38;5;241;43m=\u001b[39;49m\u001b[43msize\u001b[49m\u001b[43m)\u001b[49m\n\u001b[1;32m   3934\u001b[0m \u001b[38;5;28mself\u001b[39m\u001b[38;5;241m.\u001b[39m_fh \u001b[38;5;241m=\u001b[39m fh\n\u001b[1;32m   3935\u001b[0m \u001b[38;5;28mself\u001b[39m\u001b[38;5;241m.\u001b[39m_multifile \u001b[38;5;241m=\u001b[39m \u001b[38;5;28;01mTrue\u001b[39;00m \u001b[38;5;28;01mif\u001b[39;00m _multifile \u001b[38;5;129;01mis\u001b[39;00m \u001b[38;5;28;01mNone\u001b[39;00m \u001b[38;5;28;01melse\u001b[39;00m \u001b[38;5;28mbool\u001b[39m(_multifile)\n",
      "File \u001b[0;32m~/opt/anaconda3/envs/napari-env/lib/python3.9/site-packages/tifffile/tifffile.py:13635\u001b[0m, in \u001b[0;36mFileHandle.__init__\u001b[0;34m(self, file, mode, name, offset, size)\u001b[0m\n\u001b[1;32m  13633\u001b[0m \u001b[38;5;28mself\u001b[39m\u001b[38;5;241m.\u001b[39m_close \u001b[38;5;241m=\u001b[39m \u001b[38;5;28;01mTrue\u001b[39;00m\n\u001b[1;32m  13634\u001b[0m \u001b[38;5;28mself\u001b[39m\u001b[38;5;241m.\u001b[39m_lock \u001b[38;5;241m=\u001b[39m NullContext()\n\u001b[0;32m> 13635\u001b[0m \u001b[38;5;28;43mself\u001b[39;49m\u001b[38;5;241;43m.\u001b[39;49m\u001b[43mopen\u001b[49m\u001b[43m(\u001b[49m\u001b[43m)\u001b[49m\n\u001b[1;32m  13636\u001b[0m \u001b[38;5;28;01massert\u001b[39;00m \u001b[38;5;28mself\u001b[39m\u001b[38;5;241m.\u001b[39m_fh \u001b[38;5;129;01mis\u001b[39;00m \u001b[38;5;129;01mnot\u001b[39;00m \u001b[38;5;28;01mNone\u001b[39;00m\n",
      "File \u001b[0;32m~/opt/anaconda3/envs/napari-env/lib/python3.9/site-packages/tifffile/tifffile.py:13650\u001b[0m, in \u001b[0;36mFileHandle.open\u001b[0;34m(self)\u001b[0m\n\u001b[1;32m  13648\u001b[0m \u001b[38;5;28mself\u001b[39m\u001b[38;5;241m.\u001b[39m_file \u001b[38;5;241m=\u001b[39m os\u001b[38;5;241m.\u001b[39mpath\u001b[38;5;241m.\u001b[39mrealpath(\u001b[38;5;28mself\u001b[39m\u001b[38;5;241m.\u001b[39m_file)\n\u001b[1;32m  13649\u001b[0m \u001b[38;5;28mself\u001b[39m\u001b[38;5;241m.\u001b[39m_dir, \u001b[38;5;28mself\u001b[39m\u001b[38;5;241m.\u001b[39m_name \u001b[38;5;241m=\u001b[39m os\u001b[38;5;241m.\u001b[39mpath\u001b[38;5;241m.\u001b[39msplit(\u001b[38;5;28mself\u001b[39m\u001b[38;5;241m.\u001b[39m_file)\n\u001b[0;32m> 13650\u001b[0m \u001b[38;5;28mself\u001b[39m\u001b[38;5;241m.\u001b[39m_fh \u001b[38;5;241m=\u001b[39m \u001b[38;5;28;43mopen\u001b[39;49m\u001b[43m(\u001b[49m\u001b[38;5;28;43mself\u001b[39;49m\u001b[38;5;241;43m.\u001b[39;49m\u001b[43m_file\u001b[49m\u001b[43m,\u001b[49m\u001b[43m \u001b[49m\u001b[38;5;28;43mself\u001b[39;49m\u001b[38;5;241;43m.\u001b[39;49m\u001b[43m_mode\u001b[49m\u001b[43m)\u001b[49m  \u001b[38;5;66;03m# type: ignore\u001b[39;00m\n\u001b[1;32m  13651\u001b[0m \u001b[38;5;28mself\u001b[39m\u001b[38;5;241m.\u001b[39m_close \u001b[38;5;241m=\u001b[39m \u001b[38;5;28;01mTrue\u001b[39;00m\n\u001b[1;32m  13652\u001b[0m \u001b[38;5;28;01mif\u001b[39;00m \u001b[38;5;28mself\u001b[39m\u001b[38;5;241m.\u001b[39m_offset \u001b[38;5;241m<\u001b[39m \u001b[38;5;241m0\u001b[39m:\n",
      "\u001b[0;31mFileNotFoundError\u001b[0m: [Errno 2] No such file or directory: '/Users/sophiacofone/school_local/svi_worm_anno/annot/gut_mask/edof_4set_for_annot/multi_ds_select_set1_id50_bfminmax_rlmax_d5_24_23_devC4_wn8_tp5_.tiff'"
     ]
    }
   ],
   "source": [
    "img = 'gut_mask/edof_4set_for_annot/multi_ds_select_set1_id50_bfminmax_rlmax_d5_24_23_devC4_wn8_tp5_.tiff'\n",
    "image = tiff.imread(img)\n",
    "\n",
    "plt.imshow(image[0], cmap='gray')  # You can adjust the colormap as needed\n",
    "plt.title('Image')\n",
    "plt.axis('off')  # Hide the axis ticks and labels\n",
    "plt.show()"
   ]
  },
  {
   "cell_type": "code",
   "execution_count": null,
   "id": "a19f8b07",
   "metadata": {},
   "outputs": [],
   "source": []
  }
 ],
 "metadata": {
  "kernelspec": {
   "display_name": "Python 3 (ipykernel)",
   "language": "python",
   "name": "python3"
  },
  "language_info": {
   "codemirror_mode": {
    "name": "ipython",
    "version": 3
   },
   "file_extension": ".py",
   "mimetype": "text/x-python",
   "name": "python",
   "nbconvert_exporter": "python",
   "pygments_lexer": "ipython3",
   "version": "3.9.16"
  }
 },
 "nbformat": 4,
 "nbformat_minor": 5
}
